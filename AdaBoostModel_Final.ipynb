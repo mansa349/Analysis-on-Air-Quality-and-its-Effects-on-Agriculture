{
 "cells": [
  {
   "cell_type": "code",
   "execution_count": 1,
   "metadata": {},
   "outputs": [
    {
     "name": "stdout",
     "output_type": "stream",
     "text": [
      "              precision    recall  f1-score   support\n",
      "\n",
      "           0       0.00      0.00      0.00         1\n",
      "           1       0.00      0.00      0.00         2\n",
      "           2       0.28      1.00      0.44        23\n",
      "           3       0.00      0.00      0.00         1\n",
      "           4       0.00      0.00      0.00        33\n",
      "           5       0.94      1.00      0.97        34\n",
      "           6       1.00      1.00      1.00        29\n",
      "           7       0.00      0.00      0.00        27\n",
      "           8       0.00      0.00      0.00         1\n",
      "           9       0.00      0.00      0.00         0\n",
      "          10       0.00      0.00      0.00         1\n",
      "          11       0.00      0.00      0.00        24\n",
      "          12       0.92      1.00      0.96        35\n",
      "          13       0.00      0.00      0.00        38\n",
      "          14       0.14      1.00      0.24        25\n",
      "          15       0.00      0.00      0.00        28\n",
      "          16       0.00      0.00      0.00        32\n",
      "          17       0.00      0.00      0.00         1\n",
      "          19       0.00      0.00      0.00        30\n",
      "          21       0.00      0.00      0.00         1\n",
      "          22       0.00      0.00      0.00         1\n",
      "          23       1.00      1.00      1.00         1\n",
      "\n",
      "    accuracy                           0.40       368\n",
      "   macro avg       0.19      0.27      0.21       368\n",
      "weighted avg       0.28      0.40      0.31       368\n",
      "\n",
      "0.39945652173913043\n"
     ]
    }
   ],
   "source": [
    "import pandas as pd\n",
    "import numpy as np\n",
    "df=pd.read_csv('C:\\\\Users\\HP\\Downloads\\Crop_Recommend.csv')\n",
    "import warnings\n",
    "warnings.filterwarnings('ignore')\n",
    "\n",
    "#Building the AdaBoost Model\n",
    "from sklearn import preprocessing\n",
    "cat_col=['label',]\n",
    "le=preprocessing.LabelEncoder()\n",
    "for i in cat_col:\n",
    "    le.fit(list(df[i].unique()))\n",
    "    df[i]=le.transform(df[i])\n",
    "X=df.iloc[:,0:11].values\n",
    "Y=df['label'].values\n",
    "\n",
    "#Splitting the Dataset\n",
    "#Building the AdaBoost Model:\n",
    "\n",
    "from sklearn.model_selection import train_test_split\n",
    "X_train,X_test,Y_train,Y_test=train_test_split(X,Y,test_size=0.3,random_state=123)\n",
    "from sklearn.ensemble import AdaBoostClassifier\n",
    "from numpy.core.umath_tests import inner1d\n",
    "adb=AdaBoostClassifier(random_state=123)\n",
    "model = adb.fit(X_train,Y_train)\n",
    "y_pred = model.predict(X_test)\n",
    "\n",
    "from sklearn.metrics import confusion_matrix, classification_report, accuracy_score\n",
    "#print(confusion_matrix(Y_test, y_pred))\n",
    "print(classification_report(Y_test, y_pred))\n",
    "print(accuracy_score(Y_test, y_pred))"
   ]
  },
  {
   "cell_type": "code",
   "execution_count": 2,
   "metadata": {},
   "outputs": [
    {
     "data": {
      "text/plain": [
       "Text(0, 0.5, 'Frequency')"
      ]
     },
     "execution_count": 2,
     "metadata": {},
     "output_type": "execute_result"
    },
    {
     "data": {
      "image/png": "[encoded data removed]",
      "text/plain": [
       "<Figure size 432x288 with 1 Axes>"
      ]
     },
     "metadata": {
      "needs_background": "light"
     },
     "output_type": "display_data"
    }
   ],
   "source": [
    "import matplotlib.pyplot as plt\n",
    "import numpy as np\n",
    "# if using a Jupyter notebook, includue:\n",
    "%matplotlib inline\n",
    "diff = Y_test - y_pred\n",
    "plt.hist(diff, bins = 40)\n",
    "plt.title('Histogram of prediction errors for AdaBoost Model\\n Before Parameter Tuning')\n",
    "plt.xlabel('Crop prediction error')\n",
    "plt.ylabel('Frequency')"
   ]
  },
  {
   "cell_type": "code",
   "execution_count": 3,
   "metadata": {},
   "outputs": [],
   "source": [
    "\"\"\"Using SVM as a base estimator\"\"\"\n",
    "from sklearn.svm import SVC\n",
    "from sklearn.ensemble import AdaBoostClassifier \n",
    "svc = SVC(probability = True, kernel='linear')\n",
    "adb = AdaBoostClassifier(n_estimators=100,base_estimator = svc, learning_rate= 0.01)\n",
    "\n",
    "#Training and Predicting the AdaBoost Classifier\n",
    "model = adb.fit(X_train, Y_train)\n",
    "y_pred = model.predict(X_test)\n",
    "#y_pred"
   ]
  },
  {
   "cell_type": "code",
   "execution_count": 4,
   "metadata": {},
   "outputs": [
    {
     "name": "stdout",
     "output_type": "stream",
     "text": [
      "              precision    recall  f1-score   support\n",
      "\n",
      "           0       0.00      0.00      0.00         1\n",
      "           1       0.00      0.00      0.00         2\n",
      "           2       0.96      1.00      0.98        23\n",
      "           3       0.00      0.00      0.00         1\n",
      "           4       1.00      1.00      1.00        33\n",
      "           5       1.00      1.00      1.00        34\n",
      "           6       1.00      1.00      1.00        29\n",
      "           7       1.00      1.00      1.00        27\n",
      "           8       0.00      0.00      0.00         1\n",
      "          10       0.00      0.00      0.00         1\n",
      "          11       0.96      1.00      0.98        24\n",
      "          12       0.95      1.00      0.97        35\n",
      "          13       0.88      1.00      0.94        38\n",
      "          14       0.96      1.00      0.98        25\n",
      "          15       1.00      1.00      1.00        28\n",
      "          16       0.97      1.00      0.98        32\n",
      "          17       0.00      0.00      0.00         1\n",
      "          19       1.00      0.97      0.98        30\n",
      "          21       0.00      0.00      0.00         1\n",
      "          22       0.00      0.00      0.00         1\n",
      "          23       0.00      0.00      0.00         1\n",
      "\n",
      "    accuracy                           0.97       368\n",
      "   macro avg       0.56      0.57      0.56       368\n",
      "weighted avg       0.95      0.97      0.96       368\n",
      "\n",
      "0.970108695652174\n"
     ]
    }
   ],
   "source": [
    "#Evaluating the Model:\n",
    "#print(confusion_matrix(Y_test, y_pred))\n",
    "print(classification_report(Y_test, y_pred))\n",
    "print(accuracy_score(Y_test, y_pred))"
   ]
  },
  {
   "cell_type": "code",
   "execution_count": 5,
   "metadata": {},
   "outputs": [
    {
     "data": {
      "text/plain": [
       "Text(0, 0.5, 'Frequency')"
      ]
     },
     "execution_count": 5,
     "metadata": {},
     "output_type": "execute_result"
    },
    {
     "data": {
      "image/png": "[encoded data removed]",
      "text/plain": [
       "<Figure size 432x288 with 1 Axes>"
      ]
     },
     "metadata": {
      "needs_background": "light"
     },
     "output_type": "display_data"
    }
   ],
   "source": [
    "import matplotlib.pyplot as plt\n",
    "import numpy as np\n",
    "# if using a Jupyter notebook, includue:\n",
    "%matplotlib inline\n",
    "diff = Y_test - y_pred\n",
    "plt.hist(diff,bins = 40)\n",
    "plt.title('Histogram of prediction errors For AdaBoost Model \\n After Parameter tuning')\n",
    "plt.xlabel('Crop prediction error')\n",
    "plt.ylabel('Frequency')"
   ]
  },
  {
   "cell_type": "code",
   "execution_count": 9,
   "metadata": {},
   "outputs": [
    {
     "name": "stdout",
     "output_type": "stream",
     "text": [
      "Mean Absolute Error: 3.9755434782608696\n",
      "Root Mean Squared Error: 6.705975596112185\n",
      "Mean_adb_Acc: 0.264202657807309\n",
      "Mean cross-validataion score: 0.26\n",
      "K-fold CV average score: 0.29\n",
      "Average expected loss: 44.03533\n",
      "Average bias: 26.470\n",
      "Average variance: 17.565\n",
      "0.6330929753311271\n"
     ]
    }
   ],
   "source": [
    "from sklearn.model_selection import cross_val_score, KFold\n",
    "from sklearn.metrics import mean_squared_error\n",
    "import matplotlib.pyplot as plt\n",
    "\n",
    "from sklearn import metrics\n",
    "from numpy.core.umath_tests import inner1d\n",
    "adb=AdaBoostClassifier(n_estimators=1500,random_state=400)\n",
    "model=adb.fit(X_train,Y_train)\n",
    "\n",
    "\n",
    "y_pred=adb.predict(X_test)\n",
    "#Errors\n",
    "print('Mean Absolute Error:',metrics.mean_absolute_error(Y_test,y_pred))\n",
    "print('Root Mean Squared Error:',np.sqrt(metrics.mean_squared_error(Y_test,y_pred)))\n",
    "\n",
    "#20-fold cross validation\n",
    "import warnings\n",
    "warnings.filterwarnings('ignore')\n",
    "from sklearn.model_selection import cross_val_score\n",
    "adb_accuracies=cross_val_score(adb,X_train,Y_train,cv=20)\n",
    "print('Mean_adb_Acc:',adb_accuracies.mean()) #prediction score\n",
    "\n",
    "#Predicting and checking the accuracy\n",
    "#After training the model, we can check the accuracy with the cross-validation method.\n",
    "\n",
    "scores = cross_val_score(model, X_train,Y_train,cv=20)\n",
    "print(\"Mean cross-validataion score: %.2f\" % scores.mean())\n",
    " \n",
    "#We can also apply cross-validation with a k-fold method.\n",
    "kfold = KFold(n_splits=5, shuffle=True)\n",
    "kf_cv_scores = cross_val_score(model, X_train, Y_train, cv=kfold )\n",
    "print(\"K-fold CV average score: %.2f\" % kf_cv_scores.mean())\n",
    "\n",
    "\n",
    "from mlxtend.evaluate import bias_variance_decomp\n",
    "avg_expected_loss, avg_bias, avg_var = bias_variance_decomp(\n",
    "        adb, X_train, Y_train, X_test, Y_test, \n",
    "        loss='mse',\n",
    "        num_rounds=2, # Number of bootstrap rounds for implementing the decomposition\n",
    "        random_seed=123\n",
    ")\n",
    "print('Average expected loss: %.5f' % avg_expected_loss)\n",
    "print('Average bias: %.3f' % avg_bias)\n",
    "print('Average variance: %.3f' % avg_var)\n",
    "\n",
    "\n",
    "from sklearn.metrics import roc_auc_score, accuracy_score, classification_report, confusion_matrix, roc_curve, log_loss, brier_score_loss\n",
    "from sklearn.ensemble import AdaBoostClassifier\n",
    "adb = AdaBoostClassifier(random_state=309,n_estimators= 20)\n",
    "adb.fit(X_train,Y_train)\n",
    "\n",
    "adb_y_pred = adb.predict_proba(X_test)\n",
    "adb_roc = roc_auc_score(Y_test,adb_y_pred,multi_class='ovr')\n",
    "print(adb_roc)"
   ]
  },
  {
   "cell_type": "code",
   "execution_count": null,
   "metadata": {},
   "outputs": [],
   "source": []
  },
  {
   "cell_type": "code",
   "execution_count": null,
   "metadata": {},
   "outputs": [],
   "source": []
  }
 ],
 "metadata": {
  "kernelspec": {
   "display_name": "Python 3",
   "language": "python",
   "name": "python3"
  },
  "language_info": {
   "codemirror_mode": {
    "name": "ipython",
    "version": 3
   },
   "file_extension": ".py",
   "mimetype": "text/x-python",
   "name": "python",
   "nbconvert_exporter": "python",
   "pygments_lexer": "ipython3",
   "version": "3.7.6"
  }
 },
 "nbformat": 4,
 "nbformat_minor": 4
}
